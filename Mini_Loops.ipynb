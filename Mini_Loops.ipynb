{
  "nbformat": 4,
  "nbformat_minor": 0,
  "metadata": {
    "colab": {
      "provenance": [],
      "authorship_tag": "ABX9TyNWduRmCpXTKNG7oESXRbhB",
      "include_colab_link": true
    },
    "kernelspec": {
      "name": "python3",
      "display_name": "Python 3"
    },
    "language_info": {
      "name": "python"
    }
  },
  "cells": [
    {
      "cell_type": "markdown",
      "metadata": {
        "id": "view-in-github",
        "colab_type": "text"
      },
      "source": [
        "<a href=\"https://colab.research.google.com/github/Pithon-hub/Mini_loops/blob/main/Mini_Loops.ipynb\" target=\"_parent\"><img src=\"https://colab.research.google.com/assets/colab-badge.svg\" alt=\"Open In Colab\"/></a>"
      ]
    },
    {
      "cell_type": "code",
      "source": [
        "# 1. Print numbers from 1 to 10\n",
        "# Output:\n",
        "# 1\n",
        "# 2\n",
        "# ...\n",
        "# 10\n",
        "for integer in range(1,11):\n",
        "  print(integer)"
      ],
      "metadata": {
        "id": "HTJXmG9QT2em",
        "colab": {
          "base_uri": "https://localhost:8080/"
        },
        "outputId": "0694ba35-d623-4147-ba02-8f83ea3f2b5c"
      },
      "execution_count": 44,
      "outputs": [
        {
          "output_type": "stream",
          "name": "stdout",
          "text": [
            "1\n",
            "2\n",
            "3\n",
            "4\n",
            "5\n",
            "6\n",
            "7\n",
            "8\n",
            "9\n",
            "10\n"
          ]
        }
      ]
    },
    {
      "cell_type": "code",
      "source": [
        "#2. Print even numbers between 1 and 20\n",
        "# Output:\n",
        "# 2, 4, 6, ..., 20\n",
        "for integer in range(2,21,2):\n",
        "  print(integer,end=\",\")"
      ],
      "metadata": {
        "colab": {
          "base_uri": "https://localhost:8080/"
        },
        "id": "eDAD6VZlsLQy",
        "outputId": "d136e0ab-3ac1-48f4-98ca-7b865beca47c"
      },
      "execution_count": 45,
      "outputs": [
        {
          "output_type": "stream",
          "name": "stdout",
          "text": [
            "2,4,6,8,10,12,14,16,18,20,"
          ]
        }
      ]
    },
    {
      "cell_type": "code",
      "source": [
        "# 3. Print the square of numbers from 1 to 5\n",
        "# Output:\n",
        "# 1 4 9 16 25\n",
        "for integer in range(1,6):\n",
        "  print(integer*integer,end=\" \")"
      ],
      "metadata": {
        "colab": {
          "base_uri": "https://localhost:8080/"
        },
        "id": "Ynssy5HZsvHZ",
        "outputId": "5ee1f79b-1ad9-4b79-b24e-38a889b3b4c5"
      },
      "execution_count": 46,
      "outputs": [
        {
          "output_type": "stream",
          "name": "stdout",
          "text": [
            "1 4 9 16 25 "
          ]
        }
      ]
    },
    {
      "cell_type": "code",
      "source": [
        "# 4. Print each character in the word \"Python\"\n",
        "# Output:\n",
        "# P\n",
        "# y\n",
        "# t\n",
        "# h\n",
        "# o\n",
        "# n\n",
        "for letter in \"Python\":\n",
        "  print(letter)"
      ],
      "metadata": {
        "id": "KxkZw6e1uSg3",
        "colab": {
          "base_uri": "https://localhost:8080/"
        },
        "outputId": "70321c45-b1f8-4f4d-dfc4-d2b439f109dd"
      },
      "execution_count": 47,
      "outputs": [
        {
          "output_type": "stream",
          "name": "stdout",
          "text": [
            "P\n",
            "y\n",
            "t\n",
            "h\n",
            "o\n",
            "n\n"
          ]
        }
      ]
    },
    {
      "cell_type": "code",
      "source": [
        "# 5. Loop through this list and print names:\n",
        "names = [\"Alice\", \"Bob\", \"Charlie\"]\n",
        "for name in names:\n",
        "  print(name)"
      ],
      "metadata": {
        "colab": {
          "base_uri": "https://localhost:8080/"
        },
        "id": "MSyFXA0jUUcn",
        "outputId": "ff96d2c6-f4e9-41bc-e389-38d230e3d5b7"
      },
      "execution_count": 48,
      "outputs": [
        {
          "output_type": "stream",
          "name": "stdout",
          "text": [
            "Alice\n",
            "Bob\n",
            "Charlie\n"
          ]
        }
      ]
    },
    {
      "cell_type": "code",
      "source": [
        "# 6. Print numbers from 5 to 1\n",
        "# Output:\n",
        "# 5\n",
        "# 4\n",
        "# 3\n",
        "# 2\n",
        "# 1\n",
        "for number in range(5,0,-1):\n",
        "  print(number)"
      ],
      "metadata": {
        "colab": {
          "base_uri": "https://localhost:8080/"
        },
        "id": "-ZdEm7zsVs_m",
        "outputId": "c9ec8d03-419c-4d4a-f8e0-560e9f1021e2"
      },
      "execution_count": 49,
      "outputs": [
        {
          "output_type": "stream",
          "name": "stdout",
          "text": [
            "5\n",
            "4\n",
            "3\n",
            "2\n",
            "1\n"
          ]
        }
      ]
    },
    {
      "cell_type": "code",
      "source": [
        "# 7. Keep asking the user to enter a password until they type \"secret\"\n",
        "# Output:\n",
        "# Try again... until correct\n",
        "password = input(\"Enter password: \")\n",
        "while True:\n",
        "  if password == \"secret\":\n",
        "    print(\"Correct password\")\n",
        "    break\n",
        "  elif password != \"secret\":\n",
        "    password = input(\"Try again: \")"
      ],
      "metadata": {
        "colab": {
          "base_uri": "https://localhost:8080/"
        },
        "id": "K3vhe0IAWKLz",
        "outputId": "4449406c-55e9-49a1-f37f-f40d5eab5437"
      },
      "execution_count": 50,
      "outputs": [
        {
          "output_type": "stream",
          "name": "stdout",
          "text": [
            "Enter password: gfg\n",
            "Try again: jhj\n",
            "Try again: secret\n",
            "Correct password\n"
          ]
        }
      ]
    },
    {
      "cell_type": "code",
      "source": [
        "# 8. Ask the user to enter numbers until they enter 0. Then print the sum.\n",
        "# Input:\n",
        "# 5\n",
        "# 3\n",
        "# 0\n",
        "# Output:\n",
        "# Total: 8\n",
        "total = 0\n",
        "while True:\n",
        "  number = int(input(\"Enter number: \"))\n",
        "  if number != 0:\n",
        "    total += number\n",
        "  elif number == 0:\n",
        "    print(\"Total\",total)\n",
        "    break"
      ],
      "metadata": {
        "colab": {
          "base_uri": "https://localhost:8080/"
        },
        "id": "Ai1LZ2vcXR5t",
        "outputId": "c80aced1-dd3a-4f8d-8644-111a51f7cfc4"
      },
      "execution_count": 51,
      "outputs": [
        {
          "output_type": "stream",
          "name": "stdout",
          "text": [
            "Enter number: 8\n",
            "Enter number: 9\n",
            "Enter number: 0\n",
            "Total 17\n"
          ]
        }
      ]
    },
    {
      "cell_type": "code",
      "source": [
        "# 9. Print all numbers from 1 to 20 that are divisible by 3\n",
        "# Output:\n",
        "# 3 6 9 12 15 18\n",
        "for number in range(1,21):\n",
        "  if number %3 == 0:\n",
        "    print(number,end=\" \")"
      ],
      "metadata": {
        "colab": {
          "base_uri": "https://localhost:8080/"
        },
        "id": "zNCZNQFPa0n_",
        "outputId": "47a2d695-0daf-46ec-8c68-6fbb9ca24090"
      },
      "execution_count": 52,
      "outputs": [
        {
          "output_type": "stream",
          "name": "stdout",
          "text": [
            "3 6 9 12 15 18 "
          ]
        }
      ]
    },
    {
      "cell_type": "code",
      "source": [
        "# 10. From this list, print only the odd numbers:\n",
        "numbers = [4, 7, 10, 13, 16, 19]\n",
        "for number in numbers:\n",
        "  if number %2 !=0:\n",
        "    print(number)"
      ],
      "metadata": {
        "colab": {
          "base_uri": "https://localhost:8080/"
        },
        "id": "tgwd81Ombjow",
        "outputId": "0da0cba7-7d73-4ed7-cd04-1132aa4f4f15"
      },
      "execution_count": 53,
      "outputs": [
        {
          "output_type": "stream",
          "name": "stdout",
          "text": [
            "7\n",
            "13\n",
            "19\n"
          ]
        }
      ]
    },
    {
      "cell_type": "code",
      "source": [
        "# 11. Count how many times \"apple\" appears in the list:\n",
        "fruits = [\"apple\", \"banana\", \"apple\", \"cherry\", \"apple\"]\n",
        "count=fruits.count(\"apple\")\n",
        "print(count)"
      ],
      "metadata": {
        "colab": {
          "base_uri": "https://localhost:8080/"
        },
        "id": "_DJS0v-wctsB",
        "outputId": "de53d9cf-e145-4fd4-df86-ae68a285ea94"
      },
      "execution_count": 54,
      "outputs": [
        {
          "output_type": "stream",
          "name": "stdout",
          "text": [
            "3\n"
          ]
        }
      ]
    },
    {
      "cell_type": "code",
      "source": [
        "# 12. Use a loop to reverse a string:\n",
        "# Input:\n",
        "# \"hello\"\n",
        "# Output:\n",
        "# \"olleh\"\n",
        "string = input(\"Enter string: \")\n",
        "reverse = string[::-1]\n",
        "print(reverse)"
      ],
      "metadata": {
        "colab": {
          "base_uri": "https://localhost:8080/"
        },
        "id": "0gBIGztXdb-l",
        "outputId": "741e9e7f-b4d1-4943-8028-d00556cc21aa"
      },
      "execution_count": 55,
      "outputs": [
        {
          "output_type": "stream",
          "name": "stdout",
          "text": [
            "Enter string: hello\n",
            "olleh\n"
          ]
        }
      ]
    },
    {
      "cell_type": "code",
      "source": [
        "# 13. Print a simple triangle of stars:\n",
        "# Output:\n",
        "# *\n",
        "# **\n",
        "# ***\n",
        "# ****\n",
        "# *****\n",
        "for integer in range(1,6):\n",
        "  print(\"*\" * integer)"
      ],
      "metadata": {
        "colab": {
          "base_uri": "https://localhost:8080/"
        },
        "id": "AqHQLRI2eiOV",
        "outputId": "ad940489-b1ce-4135-c138-20c8a35ddd5d"
      },
      "execution_count": 56,
      "outputs": [
        {
          "output_type": "stream",
          "name": "stdout",
          "text": [
            "*\n",
            "**\n",
            "***\n",
            "****\n",
            "*****\n"
          ]
        }
      ]
    },
    {
      "cell_type": "code",
      "source": [
        "# 14. Use a loop to calculate the factorial of a number:\n",
        "# Input:\n",
        "# 5\n",
        "# Output:\n",
        "# 120\n",
        "number = int(input(\"Enter number: \"))\n",
        "factorial = 1\n",
        "for integer in range(1,number+1):\n",
        "  factorial *= integer\n",
        "  print(factorial)"
      ],
      "metadata": {
        "colab": {
          "base_uri": "https://localhost:8080/"
        },
        "id": "L6MZQVXOgZon",
        "outputId": "67a783a2-ec02-49c8-8ffa-ba352467bccc"
      },
      "execution_count": 57,
      "outputs": [
        {
          "output_type": "stream",
          "name": "stdout",
          "text": [
            "Enter number: 5\n",
            "1\n",
            "2\n",
            "6\n",
            "24\n",
            "120\n"
          ]
        }
      ]
    },
    {
      "cell_type": "code",
      "source": [
        "# 15. Loop from 1 to 100 and:\n",
        "# Print \"Hit\" if divisible by 3\n",
        "# Print \"Miss\" if divisible by 5\n",
        "# Print \"Jackpot\" if divisible by both\n",
        "for integer in range(1,101):\n",
        "  if integer %3 == 0 and integer %5 == 0:\n",
        "    print(integer,\"Jackpot\")\n",
        "  if integer %3 == 0:\n",
        "    print(integer,\"Hit\")\n",
        "  elif integer %5 == 0:\n",
        "    print(integer,\"Miss\")"
      ],
      "metadata": {
        "colab": {
          "base_uri": "https://localhost:8080/"
        },
        "id": "ObaYjDIYhLgj",
        "outputId": "d4c2c352-1679-4432-f997-8092831be519"
      },
      "execution_count": 58,
      "outputs": [
        {
          "output_type": "stream",
          "name": "stdout",
          "text": [
            "3 Hit\n",
            "5 Miss\n",
            "6 Hit\n",
            "9 Hit\n",
            "10 Miss\n",
            "12 Hit\n",
            "15 Jackpot\n",
            "15 Hit\n",
            "18 Hit\n",
            "20 Miss\n",
            "21 Hit\n",
            "24 Hit\n",
            "25 Miss\n",
            "27 Hit\n",
            "30 Jackpot\n",
            "30 Hit\n",
            "33 Hit\n",
            "35 Miss\n",
            "36 Hit\n",
            "39 Hit\n",
            "40 Miss\n",
            "42 Hit\n",
            "45 Jackpot\n",
            "45 Hit\n",
            "48 Hit\n",
            "50 Miss\n",
            "51 Hit\n",
            "54 Hit\n",
            "55 Miss\n",
            "57 Hit\n",
            "60 Jackpot\n",
            "60 Hit\n",
            "63 Hit\n",
            "65 Miss\n",
            "66 Hit\n",
            "69 Hit\n",
            "70 Miss\n",
            "72 Hit\n",
            "75 Jackpot\n",
            "75 Hit\n",
            "78 Hit\n",
            "80 Miss\n",
            "81 Hit\n",
            "84 Hit\n",
            "85 Miss\n",
            "87 Hit\n",
            "90 Jackpot\n",
            "90 Hit\n",
            "93 Hit\n",
            "95 Miss\n",
            "96 Hit\n",
            "99 Hit\n",
            "100 Miss\n"
          ]
        }
      ]
    },
    {
      "cell_type": "code",
      "source": [
        "# 16. Ask the user how many students are in a class. Then loop to enter each student’s name and save them to a list. Finally, print the list of students.\n",
        "total_students = int(input(\"Enter the number of students in the class: \"))\n",
        "students = []\n",
        "for i in range(total_students):\n",
        "  name = input(\"Enter student name: \")\n",
        "  students.append(name)\n",
        "  print(students)"
      ],
      "metadata": {
        "colab": {
          "base_uri": "https://localhost:8080/"
        },
        "id": "mwGLxFbIhMF5",
        "outputId": "b219ee29-0231-437c-ccfb-360e3f7b18f7"
      },
      "execution_count": 59,
      "outputs": [
        {
          "output_type": "stream",
          "name": "stdout",
          "text": [
            "Enter the number of students in the class: 5\n",
            "Enter student name: Pithon\n",
            "['Pithon']\n",
            "Enter student name: Jackson\n",
            "['Pithon', 'Jackson']\n",
            "Enter student name: Monicah\n",
            "['Pithon', 'Jackson', 'Monicah']\n",
            "Enter student name: Paul\n",
            "['Pithon', 'Jackson', 'Monicah', 'Paul']\n",
            "Enter student name: David\n",
            "['Pithon', 'Jackson', 'Monicah', 'Paul', 'David']\n"
          ]
        }
      ]
    }
  ]
}